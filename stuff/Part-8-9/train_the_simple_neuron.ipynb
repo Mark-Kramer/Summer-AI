{
 "cells": [
  {
   "cell_type": "markdown",
   "metadata": {},
   "source": [
    "---\n",
    "\n",
    "Let's teach the Perceptron what's yummy!\n",
    "\n",
    "Start with our function:"
   ]
  },
  {
   "cell_type": "code",
   "execution_count": 18,
   "metadata": {},
   "outputs": [],
   "source": [
    "def food_critic_perceptron(ice_cream, ketchup, weight_ice_cream, weight_ketchup):\n",
    "    \n",
    "    # Define the perceptron calculation\n",
    "    x = ice_cream*weight_ice_cream + ketchup*weight_ketchup\n",
    "    \n",
    "    # Apply the threshold,\n",
    "    if x > 0:\n",
    "        output = 1\n",
    "    else:\n",
    "        output = 0\n",
    "\n",
    "    return output"
   ]
  },
  {
   "cell_type": "markdown",
   "metadata": {},
   "source": [
    "---\n",
    "Now let's teach it!"
   ]
  },
  {
   "cell_type": "code",
   "execution_count": 42,
   "metadata": {},
   "outputs": [
    {
     "name": "stdout",
     "output_type": "stream",
     "text": [
      "0.30000000000000016 -0.4999999999999999\n"
     ]
    }
   ],
   "source": [
    "w_yum  = 1;               #Our first guess for weights.\n",
    "w_yuck = 1;\n",
    "learning_constant = 0.1;\n",
    "\n",
    "for k in range(1000):\n",
    "    \n",
    "    ice_cream = random.choice([True, False])\n",
    "    ketchup   = random.choice([True, False])\n",
    "\n",
    "    desired_output = (ice_cream == True) and (ketchup == False)\n",
    "    #print(desired_output)\n",
    "    perceptron_output = food_critic_perceptron(ice_cream, ketchup, w_yum, w_yuck)\n",
    "    #print(perceptron_output)\n",
    "    error = desired_output - perceptron_output\n",
    "    #print(error)\n",
    "    \n",
    "    w_yum  = w_yum  + error*ice_cream*learning_constant\n",
    "    w_yuck = w_yuck + error*ketchup*learning_constant\n",
    "\n",
    "print(w_yum, w_yuck)"
   ]
  },
  {
   "cell_type": "markdown",
   "metadata": {},
   "source": [
    "---\n",
    "Let's check to see if it works ..."
   ]
  },
  {
   "cell_type": "code",
   "execution_count": 43,
   "metadata": {},
   "outputs": [
    {
     "name": "stdout",
     "output_type": "stream",
     "text": [
      "Check it\n",
      "ice_cream = 1 , ketchup = 0 , perceptron = 1\n",
      "ice_cream = 0 , ketchup = 1 , perceptron = 0\n",
      "ice_cream = 1 , ketchup = 1 , perceptron = 0\n",
      "ice_cream = 0 , ketchup = 0 , perceptron = 0\n"
     ]
    }
   ],
   "source": [
    "print('Check it')\n",
    "ice_cream,ketchup = 1,0\n",
    "print('ice_cream =', ice_cream, ', ketchup =', ketchup, ', perceptron =', food_critic_perceptron(ice_cream, ketchup, w_yum, w_yuck))\n",
    "ice_cream,ketchup = 0,1\n",
    "print('ice_cream =', ice_cream, ', ketchup =', ketchup, ', perceptron =', food_critic_perceptron(ice_cream, ketchup, w_yum, w_yuck))\n",
    "ice_cream,ketchup = 1,1\n",
    "print('ice_cream =', ice_cream, ', ketchup =', ketchup, ', perceptron =', food_critic_perceptron(ice_cream, ketchup, w_yum, w_yuck))\n",
    "ice_cream,ketchup = 0,0\n",
    "print('ice_cream =', ice_cream, ', ketchup =', ketchup, ', perceptron =', food_critic_perceptron(ice_cream, ketchup, w_yum, w_yuck))"
   ]
  },
  {
   "cell_type": "code",
   "execution_count": null,
   "metadata": {},
   "outputs": [],
   "source": []
  }
 ],
 "metadata": {
  "kernelspec": {
   "display_name": "Python 3",
   "language": "python",
   "name": "python3"
  },
  "language_info": {
   "codemirror_mode": {
    "name": "ipython",
    "version": 3
   },
   "file_extension": ".py",
   "mimetype": "text/x-python",
   "name": "python",
   "nbconvert_exporter": "python",
   "pygments_lexer": "ipython3",
   "version": "3.7.4"
  }
 },
 "nbformat": 4,
 "nbformat_minor": 2
}
