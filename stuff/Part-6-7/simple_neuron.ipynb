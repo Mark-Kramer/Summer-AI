{
 "cells": [
  {
   "cell_type": "markdown",
   "metadata": {},
   "source": [
    "---\n",
    "Let's make a perceptron!"
   ]
  },
  {
   "cell_type": "code",
   "execution_count": 1,
   "metadata": {},
   "outputs": [],
   "source": [
    "def food_critic_perceptron(ice_cream, ketchup, weight_ice_cream, weight_ketchup):\n",
    "    \n",
    "    # Define the perceptron calculation\n",
    "    x = ice_cream*weight_ice_cream + ketchup*weight_ketchup\n",
    "    \n",
    "    # Apply the threshold,\n",
    "    if x > 0:\n",
    "        output = 'Yum!'\n",
    "    else:\n",
    "        output = 'Yuck!'\n",
    "\n",
    "    return output"
   ]
  },
  {
   "cell_type": "markdown",
   "metadata": {},
   "source": [
    "---\n",
    "Let's see how it works!"
   ]
  },
  {
   "cell_type": "code",
   "execution_count": 2,
   "metadata": {},
   "outputs": [
    {
     "name": "stdout",
     "output_type": "stream",
     "text": [
      "Yum!\n"
     ]
    }
   ],
   "source": [
    "ice_cream = 100;\n",
    "ketchup   = 1;\n",
    "\n",
    "weight_ice_cream = 1;\n",
    "weight_ketchup   = -20;\n",
    "\n",
    "output = food_critic_perceptron(ice_cream, ketchup, weight_ice_cream, weight_ketchup)\n",
    "print(output)"
   ]
  },
  {
   "cell_type": "code",
   "execution_count": null,
   "metadata": {},
   "outputs": [],
   "source": []
  }
 ],
 "metadata": {
  "kernelspec": {
   "display_name": "Python 3",
   "language": "python",
   "name": "python3"
  },
  "language_info": {
   "codemirror_mode": {
    "name": "ipython",
    "version": 3
   },
   "file_extension": ".py",
   "mimetype": "text/x-python",
   "name": "python",
   "nbconvert_exporter": "python",
   "pygments_lexer": "ipython3",
   "version": "3.7.4"
  }
 },
 "nbformat": 4,
 "nbformat_minor": 2
}
